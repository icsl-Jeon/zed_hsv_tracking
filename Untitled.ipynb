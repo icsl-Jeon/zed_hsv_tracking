{
 "cells": [
  {
   "cell_type": "code",
   "execution_count": 45,
   "metadata": {},
   "outputs": [],
   "source": [
    "import rosbag\n",
    "bag = rosbag.Bag('tracking_result.bag')\n",
    "\n",
    "true_x=true_y=true_z=[]\n",
    "esti_x=esti_y=esti_z=[]\n",
    "\n",
    "for topic, msg, t in bag.read_messages(topics=['/vicon/target_bear/target_bear']):\n",
    "    true_x.append(msg.transform.translation.x)\n",
    "    true_y.append(msg.transform.translation.y)\n",
    "    true_z.append(msg.transform.translation.z)\n",
    "    \n",
    "\n",
    "for topic, msg, t in bag.read_messages(topics=['/target_position']):\n",
    "    esti_x.append(msg.point.x)\n",
    "    esti_y.append(msg.point.y)\n",
    "    esti_z.append(msg.point.z)\n",
    "    \n",
    "    \n",
    "\n",
    "    \n"
   ]
  },
  {
   "cell_type": "code",
   "execution_count": 64,
   "metadata": {},
   "outputs": [],
   "source": [
    "import numpy as np\n",
    "\n",
    "mat_true=np.array([[true_x],[true_y],[true_z]])\n",
    "mat_true=mat_true.reshape(3,28728)\n",
    "mat_true.shape\n",
    "\n",
    "mat_esti=np.array([[esti_x],[esti_y],[esti_z]])\n",
    "mat_esti=mat_esti.reshape(3,len(esti_x))\n",
    "mat_esti.shape\n",
    "\n",
    "np.savetxt('true_data',mat_true)\n",
    "np.savetxt('esti_data',mat_esti)\n"
   ]
  },
  {
   "cell_type": "code",
   "execution_count": 40,
   "metadata": {},
   "outputs": [
    {
     "data": {
      "text/plain": [
       "-0.8743022683022653"
      ]
     },
     "execution_count": 40,
     "metadata": {},
     "output_type": "execute_result"
    }
   ],
   "source": [
    "min(true_x)"
   ]
  },
  {
   "cell_type": "code",
   "execution_count": 41,
   "metadata": {},
   "outputs": [
    {
     "data": {
      "image/png": "[encoded data removed]",
      "text/plain": [
       "<Figure size 432x288 with 1 Axes>"
      ]
     },
     "metadata": {},
     "output_type": "display_data"
    }
   ],
   "source": [
    "import matplotlib.pyplot as plt\n",
    "plt.plot(true_x)\n",
    "plt.show()\n"
   ]
  },
  {
   "cell_type": "code",
   "execution_count": 42,
   "metadata": {},
   "outputs": [
    {
     "data": {
      "image/png": "[encoded data removed]",
      "text/plain": [
       "<Figure size 432x288 with 1 Axes>"
      ]
     },
     "metadata": {},
     "output_type": "display_data"
    }
   ],
   "source": [
    "import matplotlib.pyplot as plt\n",
    "plt.plot(esti_x)\n",
    "plt.show()"
   ]
  },
  {
   "cell_type": "code",
   "execution_count": 49,
   "metadata": {},
   "outputs": [
    {
     "data": {
      "text/plain": [
       "28728"
      ]
     },
     "execution_count": 49,
     "metadata": {},
     "output_type": "execute_result"
    }
   ],
   "source": [
    "len(true_x)"
   ]
  },
  {
   "cell_type": "code",
   "execution_count": 50,
   "metadata": {},
   "outputs": [
    {
     "data": {
      "text/plain": [
       "3"
      ]
     },
     "execution_count": 50,
     "metadata": {},
     "output_type": "execute_result"
    }
   ],
   "source": [
    "28000/8000"
   ]
  }
 ],
 "metadata": {
  "kernelspec": {
   "display_name": "Python 2",
   "language": "python",
   "name": "python2"
  },
  "language_info": {
   "codemirror_mode": {
    "name": "ipython",
    "version": 2
   },
   "file_extension": ".py",
   "mimetype": "text/x-python",
   "name": "python",
   "nbconvert_exporter": "python",
   "pygments_lexer": "ipython2",
   "version": "2.7.12"
  }
 },
 "nbformat": 4,
 "nbformat_minor": 2
}
